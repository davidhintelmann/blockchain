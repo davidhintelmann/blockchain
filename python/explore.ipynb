{
 "cells": [
  {
   "cell_type": "markdown",
   "metadata": {},
   "source": [
    "# Explore Bitcoin-core\n",
    "\n",
    "This is a jupyter notebook for parsing the raw block data from bitcoin-core."
   ]
  },
  {
   "cell_type": "markdown",
   "metadata": {},
   "source": [
    "## Imports"
   ]
  },
  {
   "cell_type": "code",
   "execution_count": 12,
   "metadata": {},
   "outputs": [],
   "source": [
    "import datetime\n",
    "import sys\n",
    "from hashlib import sha256"
   ]
  },
  {
   "cell_type": "markdown",
   "metadata": {},
   "source": [
    "## Genesis Block"
   ]
  },
  {
   "cell_type": "code",
   "execution_count": 2,
   "metadata": {},
   "outputs": [
    {
     "data": {
      "text/plain": [
       "'010000006fe28c0ab6f1b372c1a6a246ae63f74f931e8365e15a089c68d6190000000000982051fd1e4ba744bbbe680e1fee14677ba1a3c3540bf7b1cdb606e857233e0e61bc6649ffff001d01e362990101000000010000000000000000000000000000000000000000000000000000000000000000ffffffff0704ffff001d0104ffffffff0100f2052a0100000043410496b538e853519c726a2c91e61ec11600ae1390813a627c66fb8be7947be63c52da7589379515d4e0a604f8141781e62294721166bf621e73a82cbf2342c858eeac00000000'"
      ]
     },
     "execution_count": 2,
     "metadata": {},
     "output_type": "execute_result"
    }
   ],
   "source": [
    "# 01000000 6fe28c0ab6f1b372c1a6a246ae63f74f931e8365e15a089c68d6190000000000 982051fd1e4ba744bbbe680e1fee14677ba1a3c3540bf7b1cdb606e857233e0e 61bc6649 ffff001d 01e36299 01 01000000010000000000000000000000000000000000000000000000000000000000000000ffffffff0704ffff001d0104ffffffff0100f2052a0100000043410496b538e853519c726a2c91e61ec11600ae1390813a627c66fb8be7947be63c52da7589379515d4e0a604f8141781e62294721166bf621e73a82cbf2342c858eeac00000000\n",
    "genesis_block = \"010000006fe28c0ab6f1b372c1a6a246ae63f74f931e8365e15a089c68d6190000000000982051fd1e4ba744bbbe680e1fee14677ba1a3c3540bf7b1cdb606e857233e0e61bc6649ffff001d01e362990101000000010000000000000000000000000000000000000000000000000000000000000000ffffffff0704ffff001d0104ffffffff0100f2052a0100000043410496b538e853519c726a2c91e61ec11600ae1390813a627c66fb8be7947be63c52da7589379515d4e0a604f8141781e62294721166bf621e73a82cbf2342c858eeac00000000\"\n",
    "genesis_block"
   ]
  },
  {
   "cell_type": "code",
   "execution_count": 3,
   "metadata": {},
   "outputs": [],
   "source": [
    "# swap_data = bytearray.fromhex(genesis_block)\n",
    "# swap_data.reverse()\n",
    "# swap_data.hex()"
   ]
  },
  {
   "cell_type": "markdown",
   "metadata": {},
   "source": [
    "## Block Data\n",
    "\n",
    "inspect blk00000.dat"
   ]
  },
  {
   "cell_type": "code",
   "execution_count": 4,
   "metadata": {},
   "outputs": [
    {
     "name": "stdout",
     "output_type": "stream",
     "text": [
      "C:\\Users\\david\\OneDrive\\Documents\\code\\python\\Blockchain\\Bitcoin\\data\\bitcoin_data\\blk00000.dat\n"
     ]
    }
   ],
   "source": [
    "block_zero  = \"C:\\\\Users\\\\david\\\\OneDrive\\\\Documents\\\\code\\\\python\\\\Blockchain\\\\Bitcoin\\\\data\\\\bitcoin_data\\\\blk00000.dat\"\n",
    "print(block_zero)"
   ]
  },
  {
   "cell_type": "code",
   "execution_count": 5,
   "metadata": {},
   "outputs": [
    {
     "data": {
      "text/plain": [
       "'f9beb4d91d0100000100000000000000000000000000000000000000000000000000000000000000000000003ba3edfd7a7b12b27ac72c3e67768f617fc81bc3888a51323a9fb8aa4b1e5e4a29ab5f49ffff001d1dac2b7c0101000000010000000000000000000000000000000000000000000000000000000000000000ffffffff4d04ffff001d0104455468652054696d65732030332f4a616e2f32303039204368616e63656c6c6f72206f6e206272696e6b206f66207365636f6e64206261696c6f757420666f722062616e6b73ffffffff0100f2052a01000000434104678afdb0fe5548271967f1a67130b7105cd6a828e03909a67962e0ea1f61deb649f6bc3f4cef38c4f35504e51ec112de5c384df7ba0b8d578a4c702b6bf11d5fac00000000f9beb4d9d7000000010000006fe28c0a'"
      ]
     },
     "execution_count": 5,
     "metadata": {},
     "output_type": "execute_result"
    }
   ],
   "source": [
    "blk = None\n",
    "with open(block_zero, 'rb') as f:\n",
    "    blk = f.readlines()\n",
    "    # blk = f.read()\n",
    "    f.close()\n",
    "blk[0].hex()"
   ]
  },
  {
   "cell_type": "markdown",
   "metadata": {},
   "source": [
    "Look at size of blk in memory"
   ]
  },
  {
   "cell_type": "code",
   "execution_count": 6,
   "metadata": {},
   "outputs": [
    {
     "name": "stdout",
     "output_type": "stream",
     "text": [
      "3292664\n",
      "size in bytes: 3,292,664 bytes\n",
      "size in KB:    3,292.66 KB\n",
      "size in MB:    3.29 MB\n",
      "block length:  134,215,086\n"
     ]
    }
   ],
   "source": [
    "blk_size = sys.getsizeof(blk)\n",
    "print(blk_size)\n",
    "print(f\"size in bytes: {blk_size:,d} bytes\")\n",
    "print(f\"size in KB:    {blk_size/1_000:,.2f} KB\")\n",
    "print(f\"size in MB:    {blk_size/1_000_000:,.2f} MB\")\n",
    "\n",
    "block_length = 0\n",
    "for b in blk:\n",
    "    block_length += len(b)\n",
    "print(f\"block length:  {block_length:,d}\")"
   ]
  },
  {
   "cell_type": "code",
   "execution_count": 7,
   "metadata": {},
   "outputs": [
    {
     "data": {
      "text/plain": [
       "'309'"
      ]
     },
     "execution_count": 7,
     "metadata": {},
     "output_type": "execute_result"
    }
   ],
   "source": [
    "f\"{int(len(blk[0].hex()))/2:,.0f}\""
   ]
  },
  {
   "cell_type": "markdown",
   "metadata": {},
   "source": [
    "### network"
   ]
  },
  {
   "cell_type": "code",
   "execution_count": 8,
   "metadata": {},
   "outputs": [
    {
     "name": "stdout",
     "output_type": "stream",
     "text": [
      "mainnet\n",
      "f9beb4d9\n",
      "d9b4bef9\n"
     ]
    }
   ],
   "source": [
    "network = {\n",
    "    'f9beb4d9': 'mainnet',\n",
    "    '0b110907': 'Testnet3',\n",
    "    'fabfb5da': 'Regtest'\n",
    "}\n",
    "\n",
    "magic_number = blk[0][:4].hex()\n",
    "print(network[magic_number])\n",
    "print(magic_number)\n",
    "\n",
    "magic_number_byte = bytearray.fromhex(magic_number)\n",
    "magic_number_byte.reverse()\n",
    "print(magic_number_byte.hex())"
   ]
  },
  {
   "cell_type": "markdown",
   "metadata": {},
   "source": [
    "### magic number and block size"
   ]
  },
  {
   "cell_type": "code",
   "execution_count": 9,
   "metadata": {},
   "outputs": [
    {
     "name": "stdout",
     "output_type": "stream",
     "text": [
      "f9beb4d91d0100000100000000000000000000000000000000000000000000000000000000000000000000003ba3edfd7a7b12b27ac72c3e67768f617fc81bc3888a51323a9fb8aa4b1e5e4a29ab5f49ffff001d1dac2b7c0101000000010000000000000000000000000000000000000000000000000000000000000000ffffffff4d04ffff001d0104455468652054696d65732030332f4a616e2f32303039204368616e63656c6c6f72206f6e206272696e6b206f66207365636f6e64206261696c6f757420666f722062616e6b73ffffffff0100f2052a01000000434104678afdb0fe5548271967f1a67130b7105cd6a828e03909a67962e0ea1f61deb649f6bc3f4cef38c4f35504e51ec112de5c384df7ba0b8d578a4c702b6bf11d5fac00000000f9beb4d9d7000000010000006fe28c0a\n",
      "\n",
      "network: mainnet\n",
      "block size raw:    293\n",
      "block size:        586\n",
      "genesis block dat: 570\n",
      "\n"
     ]
    }
   ],
   "source": [
    "block_dat = blk[0].hex()\n",
    "magic_number_dat = block_dat[:8]\n",
    "size_dat = block_dat[8:16]\n",
    "print(block_dat)\n",
    "print()\n",
    "print(f\"network: {network[magic_number_dat]}\")\n",
    "size_dat_swap = bytearray.fromhex(size_dat)\n",
    "size_dat_swap.reverse()\n",
    "block_size_raw = int(size_dat_swap.hex(), 16)+8\n",
    "block_size = block_size_raw*2\n",
    "print(f\"block size raw:    {block_size_raw}\")\n",
    "print(f\"block size:        {block_size}\")\n",
    "genesis_block_dat = block_dat[16:block_size]\n",
    "print(f\"genesis block dat: {len(genesis_block_dat)}\")\n",
    "print()"
   ]
  },
  {
   "cell_type": "markdown",
   "metadata": {},
   "source": [
    "### block header"
   ]
  },
  {
   "cell_type": "code",
   "execution_count": 11,
   "metadata": {},
   "outputs": [
    {
     "name": "stdout",
     "output_type": "stream",
     "text": [
      "00000000000000000000000000000000000000000000000000000000000000003ba3edfd7a7b12b27ac72c3e67768f617fc81bc3888a51323a9fb8aa4b1e5e4a29ab5f49ffff001d1dac2b7c\n",
      "7c2bac1d1d00ffff495fab294a5e1e4baab89f3a32518a88c31bc87f618f76673e2cc77ab2127b7afdeda33b0000000000000000000000000000000000000000000000000000000000000000\n",
      "length of block header: 152\n",
      "\n",
      "01000000\n",
      "version: 1\n",
      "\n",
      "0000000000000000000000000000000000000000000000000000000000000000\n",
      "prev block: 0\n",
      "\n",
      "3ba3edfd7a7b12b27ac72c3e67768f617fc81bc3888a51323a9fb8aa4b1e5e4a\n",
      "merkle root: 4a5e1e4baab89f3a32518a88c31bc87f618f76673e2cc77ab2127b7afdeda33b\n",
      "\n",
      "29ab5f49\n",
      "block swap: 495fab29\n",
      "block time: 2009-01-03 13:15:05\n",
      "\n",
      "ffff001d\n",
      "block bits swap: 1d00ffff\n",
      "\n",
      "1dac2b7c\n",
      "block nonce swap: 2083236893\n",
      "\n"
     ]
    }
   ],
   "source": [
    "block_header = block_dat[24:160+16]\n",
    "print(block_header)\n",
    "block_header_swap = bytearray.fromhex(block_header)\n",
    "block_header_swap.reverse()\n",
    "print(block_header_swap.hex())\n",
    "print(f\"length of block header: {len(block_header)}\")\n",
    "print()\n",
    "\n",
    "version_dat = block_dat[16:24]\n",
    "print(version_dat)\n",
    "version_dat_swap = bytearray.fromhex(version_dat)\n",
    "version_dat_swap.reverse()\n",
    "print(f\"version: {int(version_dat_swap.hex(), 16)}\")\n",
    "print()\n",
    "\n",
    "prev_block = block_header[0:64]\n",
    "print(prev_block)\n",
    "prev_block_swap = bytearray.fromhex(prev_block)\n",
    "prev_block_swap.reverse()\n",
    "print(f\"prev block: {int(prev_block_swap.hex(), 16)}\")\n",
    "print()\n",
    "\n",
    "merkle_root = block_header[64:128]\n",
    "print(merkle_root)\n",
    "merkle_root_swap = bytearray.fromhex(merkle_root)\n",
    "merkle_root_swap.reverse()\n",
    "print(f\"merkle root: {merkle_root_swap.hex()}\")\n",
    "print()\n",
    "\n",
    "block_time = block_header[128:128+8]\n",
    "print(block_time)\n",
    "block_time_swap = bytearray.fromhex(block_time)\n",
    "block_time_swap.reverse()\n",
    "print(f\"block swap: {block_time_swap.hex()}\")\n",
    "block_time_utc = datetime.datetime.fromtimestamp(int(block_time_swap.hex(), 16))\n",
    "print(f\"block time: {block_time_utc}\")\n",
    "print()\n",
    "\n",
    "block_bits = block_header[136:136+8]\n",
    "print(block_bits)\n",
    "block_bits_swap = bytearray.fromhex(block_bits)\n",
    "block_bits_swap.reverse()\n",
    "print(f\"block bits swap: {block_bits_swap.hex()}\")\n",
    "print()\n",
    "\n",
    "block_nonce = block_header[144:144+8]\n",
    "print(block_nonce)\n",
    "block_nonce_swap = bytearray.fromhex(block_nonce)\n",
    "block_nonce_swap.reverse()\n",
    "print(f\"block nonce swap: {int(block_nonce_swap.hex(), 16)}\")\n",
    "print()"
   ]
  },
  {
   "cell_type": "markdown",
   "metadata": {},
   "source": [
    "#### Block Hash SHA256"
   ]
  },
  {
   "cell_type": "code",
   "execution_count": 59,
   "metadata": {},
   "outputs": [
    {
     "name": "stdout",
     "output_type": "stream",
     "text": [
      "block header             : 0100000000000000000000000000000000000000000000000000000000000000000000003ba3edfd7a7b12b27ac72c3e67768f617fc81bc3888a51323a9fb8aa4b1e5e4a29ab5f49ffff001d1dac2b7c\n",
      "block hash SHA 256 single: af42031e805ff493a07341e2f74ff58149d22ab9ba19f61343e2c86c71c5d66d\n",
      "block hash SHA 256 double: 6fe28c0ab6f1b372c1a6a246ae63f74f931e8365e15a089c68d6190000000000\n",
      "block hash SHA 256 swap  : 000000000019d6689c085ae165831e934ff763ae46a2a6c172b3f1b60a8ce26f\n"
     ]
    }
   ],
   "source": [
    "# ersion + prev block + merkle root + block time + block bits + block nonce\n",
    "blockHeader = bytearray.fromhex(block_dat[16:160+16])\n",
    "blockHashSHA265_single = sha256(blockHeader).digest()\n",
    "blockHashSHA265_double = sha256(blockHashSHA265_single).hexdigest() # sha256(blockHeader.encode('utf-8')).hexdigest()\n",
    "print(f\"block header             : {blockHeader.hex()}\")\n",
    "print(f\"block hash SHA 256 single: {blockHashSHA265_single.hex()}\")\n",
    "print(f\"block hash SHA 256 double: {blockHashSHA265_double}\")\n",
    "\n",
    "blockHashSHA265_swap = bytearray.fromhex(blockHashSHA265_double)\n",
    "blockHashSHA265_swap.reverse()\n",
    "print(f\"block hash SHA 256 swap  : {blockHashSHA265_swap.hex()}\")"
   ]
  },
  {
   "cell_type": "markdown",
   "metadata": {},
   "source": [
    "### transactions"
   ]
  },
  {
   "cell_type": "code",
   "execution_count": 12,
   "metadata": {},
   "outputs": [
    {
     "name": "stdout",
     "output_type": "stream",
     "text": [
      "01\n",
      "block bits swap: 1\n",
      "01000000010000000000000000000000000000000000000000000000000000000000000000ffffffff4d04ffff001d0104455468652054696d65732030332f4a616e2f32303039204368616e63656c6c6f72206f6e206272696e6b206f66207365636f6e64206261696c6f757420666f722062616e6b73ffffffff0100f2052a01000000434104678afdb0fe5548271967f1a67130b7105cd6a828e03909a67962e0ea1f61deb649f6bc3f4cef38c4f35504e51ec112de5c384df7ba0b8d578a4c702b6bf11d5fac00000000\n"
     ]
    }
   ],
   "source": [
    "tx_num = block_dat[176:178]\n",
    "tx_ids = block_dat[178:block_size]\n",
    "\n",
    "print(tx_num)\n",
    "tx_num_swap = bytearray.fromhex(tx_num)\n",
    "tx_num_swap.reverse()\n",
    "print(f\"block bits swap: {int(tx_num_swap.hex(), 16)}\")\n",
    "print(tx_ids)"
   ]
  },
  {
   "cell_type": "code",
   "execution_count": 13,
   "metadata": {},
   "outputs": [
    {
     "data": {
      "text/plain": [
       "{'version': '01000000',\n",
       " 'inputcount': '01',\n",
       " 'inputs': [{'txid': '0000000000000000000000000000000000000000000000000000000000000000',\n",
       "   'vout': 'ffffffff',\n",
       "   'scriptsigsize': '4d',\n",
       "   'scriptsig': '04ffff001d0104455468652054696d65732030332f4a616e2f32303039204368616e63656c6c6f72206f6e206272696e6b206f66207365636f6e64206261696c6f757420666f722062616e6b73',\n",
       "   'sequence': 'ffffffff'}],\n",
       " 'outputcount': '01',\n",
       " 'outputs': [{'amount': '00f2052a01000000',\n",
       "   'scriptpubkeysize': '43',\n",
       "   'scriptpubkey': '4104678afdb0fe5548271967f1a67130b7105cd6a828e03909a67962e0ea1f61deb649f6bc3f4cef38c4f35504e51ec112de5c384df7ba0b8d578a4c702b6bf11d5fac'}],\n",
       " 'locktime': '00000000'}"
      ]
     },
     "execution_count": 13,
     "metadata": {},
     "output_type": "execute_result"
    }
   ],
   "source": [
    "{\n",
    "  \"version\": \"01000000\",\n",
    "  \"inputcount\": \"01\",\n",
    "  \"inputs\": [\n",
    "    {\n",
    "      \"txid\": \"0000000000000000000000000000000000000000000000000000000000000000\",\n",
    "      \"vout\": \"ffffffff\",\n",
    "      \"scriptsigsize\": \"4d\",\n",
    "      \"scriptsig\": \"04ffff001d0104455468652054696d65732030332f4a616e2f32303039204368616e63656c6c6f72206f6e206272696e6b206f66207365636f6e64206261696c6f757420666f722062616e6b73\",\n",
    "      \"sequence\": \"ffffffff\"\n",
    "    }\n",
    "  ],\n",
    "  \"outputcount\": \"01\",\n",
    "  \"outputs\": [\n",
    "    {\n",
    "      \"amount\": \"00f2052a01000000\",\n",
    "      \"scriptpubkeysize\": \"43\",\n",
    "      \"scriptpubkey\": \"4104678afdb0fe5548271967f1a67130b7105cd6a828e03909a67962e0ea1f61deb649f6bc3f4cef38c4f35504e51ec112de5c384df7ba0b8d578a4c702b6bf11d5fac\"\n",
    "    }\n",
    "  ],\n",
    "  \"locktime\": \"00000000\"\n",
    "}"
   ]
  },
  {
   "cell_type": "code",
   "execution_count": null,
   "metadata": {},
   "outputs": [],
   "source": []
  },
  {
   "cell_type": "code",
   "execution_count": 14,
   "metadata": {},
   "outputs": [
    {
     "name": "stdout",
     "output_type": "stream",
     "text": [
      "430\n"
     ]
    },
    {
     "data": {
      "text/plain": [
       "'010000006fe28c0ab6f1b372c1a6a246ae63f74f931e8365e15a089c68d6190000000000982051fd1e4ba744bbbe680e1fee14677ba1a3c3540bf7b1cdb606e857233e0e61bc6649ffff001d01e362990101000000010000000000000000000000000000000000000000000000000000000000000000ffffffff0704ffff001d0104ffffffff0100f2052a0100000043410496b538e853519c726a2c91e61ec11600ae1390813a627c66fb8be7947be63c52da7589379515d4e0a604f8141781e62294721166bf621e73a82cbf2342c858eeac00000000'"
      ]
     },
     "execution_count": 14,
     "metadata": {},
     "output_type": "execute_result"
    }
   ],
   "source": [
    "print(len(genesis_block))\n",
    "genesis_block"
   ]
  },
  {
   "attachments": {
    "image.png": {
     "image/png": "[encoded data removed]"
    }
   },
   "cell_type": "markdown",
   "metadata": {},
   "source": [
    "## Parse Whole File\n",
    "\n",
    "parse file by tracking magic numbers.\n",
    "\n",
    "**Caution:** not parsing transactions\n",
    "\n",
    "![image.png](attachment:image.png)\n",
    "\n",
    "The data above can be split in to five parts:\n",
    "1. The magic bytes (4 bytes) is a message delimiter indicating the start of a block.\n",
    "2. The size (4 bytes) indicates the size of the upcoming block in bytes.\n",
    "3. The block header (80 bytes) is the summary of the block data.\n",
    "4. The tx count (compact size) indicates how many transactions are in the block.\n",
    "5. The transaction data (variable) is all of the transactions in the block concatenated one after the other.\n"
   ]
  },
  {
   "cell_type": "code",
   "execution_count": 15,
   "metadata": {},
   "outputs": [],
   "source": [
    "network = {\n",
    "    'f9beb4d9': 'mainnet',\n",
    "    '0b110907': 'Testnet3',\n",
    "    'fabfb5da': 'Regtest'\n",
    "}"
   ]
  },
  {
   "cell_type": "code",
   "execution_count": 16,
   "metadata": {},
   "outputs": [],
   "source": [
    "blocks = {}\n",
    "block_remainder = ''\n",
    "block_height = 0\n",
    "\n",
    "for i, block in enumerate(blk):\n",
    "    data_part = block.hex()\n",
    "    data = block_remainder + data_part\n",
    "    # split on magic number\n",
    "    raw_blks = data.split('f9beb4d9')\n",
    "    block_remainder = 'f9beb4d9' + raw_blks[-1]\n",
    "    # loop through blocks from split to parse them individually\n",
    "    for b, raw_blk in enumerate(raw_blks[1:-1]):\n",
    "        tmp_block = {}\n",
    "        # print(f\"i: {i}, b: {b}\")\n",
    "        block_size_raw = raw_blk[:8]\n",
    "        block_size_swap = bytearray.fromhex(block_size_raw)\n",
    "        block_size_swap.reverse()\n",
    "        block_size = (int(block_size_swap.hex(), 16))*2+8\n",
    "        if len(raw_blk) != block_size:\n",
    "            raise ValueError(f\"error, expected len(raw_blk) == block_size but got {len(raw_blk)} == {block_size}\")\n",
    "\n",
    "        block_header = raw_blk[16:168]\n",
    "        block_header_swap = bytearray.fromhex(block_header)\n",
    "        block_header_swap.reverse()\n",
    "        # print(f\"block header hex: {block_header_swap.hex()}\")\n",
    "        # print(f\"length of block header: {len(block_header)}\")\n",
    "\n",
    "        version_dat = raw_blk[8:16]\n",
    "        version_dat_swap = bytearray.fromhex(version_dat)\n",
    "        version_dat_swap.reverse()\n",
    "        tmp_block['version'] = int(version_dat_swap.hex(), 16)\n",
    "        # print(f\"version: {int(version_dat_swap.hex(), 16)}\")\n",
    "\n",
    "        prev_block = block_header[:64]\n",
    "        prev_block_swap = bytearray.fromhex(prev_block)\n",
    "        prev_block_swap.reverse()\n",
    "        tmp_block['prev block'] = int(prev_block_swap.hex(), 16)\n",
    "        # print(f\"prev block: {int(prev_block_swap.hex(), 16)}\")\n",
    "\n",
    "        merkle_root = block_header[64:128]\n",
    "        merkle_root_swap = bytearray.fromhex(merkle_root)\n",
    "        merkle_root_swap.reverse()\n",
    "        tmp_block['merkle root'] = merkle_root_swap.hex()\n",
    "        # print(f\"merkle root: {merkle_root_swap.hex()}\")\n",
    "\n",
    "        block_time = block_header[128:136]\n",
    "        block_time_swap = bytearray.fromhex(block_time)\n",
    "        block_time_swap.reverse()\n",
    "        block_time_utc = datetime.datetime.fromtimestamp(int(block_time_swap.hex(), 16))\n",
    "        tmp_block['timestamp'] = block_time_utc\n",
    "        # print(f\"block time: {block_time_utc}\")\n",
    "\n",
    "        block_bits = block_header[136:144]\n",
    "        block_bits_swap = bytearray.fromhex(block_bits)\n",
    "        block_bits_swap.reverse()\n",
    "        tmp_block['bits'] = block_bits_swap.hex()\n",
    "        # print(f\"block bits swap: {block_bits_swap.hex()}\")\n",
    "\n",
    "        block_nonce = block_header[144:152]\n",
    "        block_nonce_swap = bytearray.fromhex(block_nonce)\n",
    "        block_nonce_swap.reverse()\n",
    "        tmp_block['nonce'] = int(block_nonce_swap.hex(), 16)\n",
    "        # print(f\"block nonce swap: {int(block_nonce_swap.hex(), 16)}\")\n",
    "\n",
    "        # tx_ids_raw = raw_blk[168:block_size]\n",
    "        tmp_block['tx ids raw '] = raw_blk[168:block_size]\n",
    "        # print(f\"tx ids raw: {tx_ids_raw}\")\n",
    "        blocks[block_height] = tmp_block\n",
    "        block_height += 1\n",
    "    if i == 10:\n",
    "        break"
   ]
  },
  {
   "cell_type": "code",
   "execution_count": 17,
   "metadata": {},
   "outputs": [
    {
     "data": {
      "text/plain": [
       "{0: {'version': 1,\n",
       "  'prev block': 0,\n",
       "  'merkle root': '4a5e1e4baab89f3a32518a88c31bc87f618f76673e2cc77ab2127b7afdeda33b',\n",
       "  'timestamp': datetime.datetime(2009, 1, 3, 13, 15, 5),\n",
       "  'bits': '1d00ffff',\n",
       "  'nonce': 2083236893,\n",
       "  'tx ids raw ': '0101000000010000000000000000000000000000000000000000000000000000000000000000ffffffff4d04ffff001d0104455468652054696d65732030332f4a616e2f32303039204368616e63656c6c6f72206f6e206272696e6b206f66207365636f6e64206261696c6f757420666f722062616e6b73ffffffff0100f2052a01000000434104678afdb0fe5548271967f1a67130b7105cd6a828e03909a67962e0ea1f61deb649f6bc3f4cef38c4f35504e51ec112de5c384df7ba0b8d578a4c702b6bf11d5fac00000000'},\n",
       " 1: {'version': 1,\n",
       "  'prev block': 10628944869218562084050143519444549580389464591454674019345556079,\n",
       "  'merkle root': '0e3e2357e806b6cdb1f70b54c3a3a17b6714ee1f0e68bebb44a74b1efd512098',\n",
       "  'timestamp': datetime.datetime(2009, 1, 8, 21, 54, 25),\n",
       "  'bits': '1d00ffff',\n",
       "  'nonce': 2573394689,\n",
       "  'tx ids raw ': '0101000000010000000000000000000000000000000000000000000000000000000000000000ffffffff0704ffff001d0104ffffffff0100f2052a0100000043410496b538e853519c726a2c91e61ec11600ae1390813a627c66fb8be7947be63c52da7589379515d4e0a604f8141781e62294721166bf621e73a82cbf2342c858eeac00000000'},\n",
       " 2: {'version': 1,\n",
       "  'prev block': 13859490975360805551058475875921983160016493905856282248190309916744,\n",
       "  'merkle root': '9b0fc92260312ce44e74ef369f5c66bbb85848f2eddd5a7a1cde251e54ccfdd5',\n",
       "  'timestamp': datetime.datetime(2009, 1, 8, 21, 55, 44),\n",
       "  'bits': '1d00ffff',\n",
       "  'nonce': 1639830024,\n",
       "  'tx ids raw ': '0101000000010000000000000000000000000000000000000000000000000000000000000000ffffffff0704ffff001d010bffffffff0100f2052a010000004341047211a824f55b505228e4c3d5194c1fcfaa15a456abdf37f9b9d97a4040afc073dee6c89064984f03385237d92167c13e236446b417ab79a0fcae412ae3316b77ac00000000'},\n",
       " 3: {'version': 1,\n",
       "  'prev block': 11203570477736020128121740583983167573973610041114084548930631753149,\n",
       "  'merkle root': '999e1c837c76a1b7fbb7e57baf87b309960f5ffefbf2a9b95dd890602272f644',\n",
       "  'timestamp': datetime.datetime(2009, 1, 8, 22, 2, 53),\n",
       "  'bits': '1d00ffff',\n",
       "  'nonce': 1844305925,\n",
       "  'tx ids raw ': '0101000000010000000000000000000000000000000000000000000000000000000000000000ffffffff0704ffff001d010effffffff0100f2052a0100000043410494b9d3e76c5b1629ecf97fff95d7a4bbdac87cc26099ada28066c6ff1eb9191223cd897194a08d0c2726c5747f1db49e8cf90e75dc3e3550ae9b30086f3cd5aaac00000000'},\n",
       " 4: {'version': 1,\n",
       "  'prev block': 13765059141997848148331515142172357869429513576723927511374275953737,\n",
       "  'merkle root': 'df2b060fa2e5e9c8ed5eaf6a45c13753ec8c63282b2688322eba40cd98ea067a',\n",
       "  'timestamp': datetime.datetime(2009, 1, 8, 22, 16, 28),\n",
       "  'bits': '1d00ffff',\n",
       "  'nonce': 2850094635,\n",
       "  'tx ids raw ': '0101000000010000000000000000000000000000000000000000000000000000000000000000ffffffff0704ffff001d011affffffff0100f2052a01000000434104184f32b212815c6e522e66686324030ff7e5bf08efb21f8b00614fb7690e19131dd31304c54f37baa40db231c918106bb9fd43373e37ae31a0befc6ecaefb867ac00000000'},\n",
       " 5: {'version': 1,\n",
       "  'prev block': 8291227170897828765976220166323524636529507549607605934123257566341,\n",
       "  'merkle root': '63522845d294ee9b0188ae5cac91bf389a0c3723f084ca1025e7d9cdfe481ce1',\n",
       "  'timestamp': datetime.datetime(2009, 1, 8, 22, 23, 48),\n",
       "  'bits': '1d00ffff',\n",
       "  'nonce': 2011431709,\n",
       "  'tx ids raw ': '0101000000010000000000000000000000000000000000000000000000000000000000000000ffffffff0704ffff001d0120ffffffff0100f2052a0100000043410456579536d150fbce94ee62b47db2ca43af0a730a0467ba55c79e2a7ec9ce4ad297e35cdbb8e42a4643a60eef7c9abee2f5822f86b1da242d9c2301c431facfd8ac00000000'},\n",
       " 6: {'version': 1,\n",
       "  'prev block': 16370459878314990909100648894304094844037454660421180233270166893564,\n",
       "  'merkle root': '20251a76e64e920e58291a30d4b212939aae976baca40e70818ceaa596fb9d37',\n",
       "  'timestamp': datetime.datetime(2009, 1, 8, 22, 29, 49),\n",
       "  'bits': '1d00ffff',\n",
       "  'nonce': 2538380312,\n",
       "  'tx ids raw ': '0101000000010000000000000000000000000000000000000000000000000000000000000000ffffffff0704ffff001d0123ffffffff0100f2052a0100000043410408ce279174b34c077c7b2043e3f3d45a588b85ef4ca466740f848ead7fb498f0a795c982552fdfa41616a7c0333a269d62108588e260fd5a48ac8e4dbf49e2bcac00000000'},\n",
       " 7: {'version': 1,\n",
       "  'prev block': 5075405992369223818941460045852607097887587139629251286903301306253,\n",
       "  'merkle root': '8aa673bc752f2851fd645d6a0a92917e967083007d9c1684f9423b100540673f',\n",
       "  'timestamp': datetime.datetime(2009, 1, 8, 22, 39, 29),\n",
       "  'bits': '1d00ffff',\n",
       "  'nonce': 2258412857,\n",
       "  'tx ids raw ': '0101000000010000000000000000000000000000000000000000000000000000000000000000ffffffff0704ffff001d012bffffffff0100f2052a01000000434104a59e64c774923d003fae7491b2a7f75d6b7aa3f35606a8ff1cf06cd3317d16a41aa16928b1df1f631f31f28c7da35d4edad3603adb2338c4d4dd268f31530555ac00000000'},\n",
       " 8: {'version': 1,\n",
       "  'prev block': 11962169199382350386773940482710330885081011506695566977317479158852,\n",
       "  'merkle root': 'a6f7f1c0dad0f2eb6b13c4f33de664b1b0e9f22efad5994a6d5b6086d85e85e3',\n",
       "  'timestamp': datetime.datetime(2009, 1, 8, 22, 45, 43),\n",
       "  'bits': '1d00ffff',\n",
       "  'nonce': 1716931356,\n",
       "  'tx ids raw ': '0101000000010000000000000000000000000000000000000000000000000000000000000000ffffffff0704ffff001d012cffffffff0100f2052a01000000434104cc8d85f5e7933cb18f13b97d165e1189c1fb3e9c98b0dd5446b2a1989883ff9e740a8a75da99cc59a21016caf7a7afd3e4e9e7952983e18d1ff70529d62e0ba1ac00000000'},\n",
       " 9: {'version': 1,\n",
       "  'prev block': 6797696584311561938253118532230587722665759031517787015285290438086,\n",
       "  'merkle root': '0437cd7f8525ceed2324359c2d0ba26006d92d856a9c20fa0241106ee5a597c9',\n",
       "  'timestamp': datetime.datetime(2009, 1, 8, 22, 54, 39),\n",
       "  'bits': '1d00ffff',\n",
       "  'nonce': 1397702696,\n",
       "  'tx ids raw ': '0101000000010000000000000000000000000000000000000000000000000000000000000000ffffffff0704ffff001d0134ffffffff0100f2052a0100000043410411db93e1dcdb8a016b49840f8c53bc1eb68a382e97b1482ecad7b148a6909a5cb2e0eaddfb84ccf9744464f82e160bfa9b8b64f9d4c03f999b8643f656b412a3ac00000000'},\n",
       " 10: {'version': 1,\n",
       "  'prev block': 14913935852309351387422174047866293383269621215235697624973666945029,\n",
       "  'merkle root': 'd3ad39fa52a89997ac7381c95eeffeaf40b66af7a57e9eba144be0a175a12b11',\n",
       "  'timestamp': datetime.datetime(2009, 1, 8, 23, 5, 52),\n",
       "  'bits': '1d00ffff',\n",
       "  'nonce': 1709518110,\n",
       "  'tx ids raw ': '0101000000010000000000000000000000000000000000000000000000000000000000000000ffffffff0704ffff001d0136ffffffff0100f2052a01000000434104fcc2888ca91cf0103d8c5797c256bf976e81f280205d002d85b9b622ed1a6f820866c7b5fe12285cfa78c035355d752fc94a398b67597dc4fbb5b386816425ddac00000000'},\n",
       " 11: {'version': 1,\n",
       "  'prev block': 4636125821177274370276892601562484714164118977655900085770958476777,\n",
       "  'merkle root': 'f8325d8f7fa5d658ea143629288d0530d2710dc9193ddc067439de803c37066e',\n",
       "  'timestamp': datetime.datetime(2009, 1, 8, 23, 12, 40),\n",
       "  'bits': '1d00ffff',\n",
       "  'nonce': 4161222679,\n",
       "  'tx ids raw ': '0101000000010000000000000000000000000000000000000000000000000000000000000000ffffffff0704ffff001d013bffffffff0100f2052a010000004341046cc86ddcd0860b7cef16cbaad7fe31fda1bf073c25cb833fa9e409e7f51e296f39b653a9c8040a2f967319ff37cf14b0991b86173462a2d5907cb6c5648b5b76ac00000000'},\n",
       " 12: {'version': 1,\n",
       "  'prev block': 15980457048563306273024894396149705010776030229048116624968711090291,\n",
       "  'merkle root': '3b96bb7e197ef276b85131afd4a09c059cc368133a26ca04ebffb0ab4f75c8b8',\n",
       "  'timestamp': datetime.datetime(2009, 1, 8, 23, 21, 28),\n",
       "  'bits': '1d00ffff',\n",
       "  'nonce': 208296255,\n",
       "  'tx ids raw ': '0101000000010000000000000000000000000000000000000000000000000000000000000000ffffffff0704ffff001d010cffffffff0100f2052a0100000043410478ebe2c28660cd2fa1ba17cc04e58d6312679005a7cad1fd56a7b7f4630bd700bcdb84a888a43fe1a2738ea1f3d2301d02faef357e8a5c35a706e4ae0352a6adac00000000'},\n",
       " 13: {'version': 1,\n",
       "  'prev block': 4187102937900290151161395225896415872773313924166855970888014113630,\n",
       "  'merkle root': '9962d5c704ec27243364cbe9d384808feeac1c15c35ac790dffd1e929829b271',\n",
       "  'timestamp': datetime.datetime(2009, 1, 8, 23, 23, 40),\n",
       "  'bits': '1d00ffff',\n",
       "  'nonce': 2259603767,\n",
       "  'tx ids raw ': '0101000000010000000000000000000000000000000000000000000000000000000000000000ffffffff0704ffff001d013cffffffff0100f2052a01000000434104c5a68f5fa2192b215016c5dfb384399a39474165eea22603cd39780e653baad9106e36947a1ba3ad5d3789c5cead18a38a538a7d834a8a2b9f0ea946fb4e6f68ac00000000'},\n",
       " 14: {'version': 1,\n",
       "  'prev block': 9722409243123720335456632451917342173529749617804418472962947887241,\n",
       "  'merkle root': 'e1afd89295b68bc5247fe0ca2885dd4b8818d7ce430faa615067d7bab8640156',\n",
       "  'timestamp': datetime.datetime(2009, 1, 8, 23, 33, 9),\n",
       "  'bits': '1d00ffff',\n",
       "  'nonce': 615369513,\n",
       "  'tx ids raw ': '0101000000010000000000000000000000000000000000000000000000000000000000000000ffffffff0704ffff001d013effffffff0100f2052a010000004341043e8ac6b8ea64e85928b6469f17db0096de0bcae7d09a4497413d9bba49c00ffdf9cb0ce07c404784928b3976f0beea42fe2691a8f0430bcb2b0daaf5aa02b30eac00000000'},\n",
       " 15: {'version': 1,\n",
       "  'prev block': 13579311107137294186903133829015509265970673608486889218249220655671,\n",
       "  'merkle root': '50748b7a193a0b23f1e9494b51131d2f954cc6cf4792bacc69d207d16002080d',\n",
       "  'timestamp': datetime.datetime(2009, 1, 9, 23, 45, 46),\n",
       "  'bits': '1d00ffff',\n",
       "  'nonce': 2566641720,\n",
       "  'tx ids raw ': '0101000000010000000000000000000000000000000000000000000000000000000000000000ffffffff0704ffff001d010affffffff0100f2052a01000000434104e0041b4b4d9b6feb7221803a35d997efada6e2b5d24f5fc7205f2ea6b62a1adc9983a7a7dab7e93ea791bed5928e7a32286fa4facadd16313b75b467aea77499ac00000000'},\n",
       " 16: {'version': 1,\n",
       "  'prev block': 18871540601250414194097484551329069099626075832045735459792567370867,\n",
       "  'merkle root': 'e79fc1dad370e628614702f048edc8e98829cf8ea8f6615db19f992b1be92e44',\n",
       "  'timestamp': datetime.datetime(2009, 1, 9, 23, 45, 58),\n",
       "  'bits': '1d00ffff',\n",
       "  'nonce': 3591544324,\n",
       "  'tx ids raw ': '0101000000010000000000000000000000000000000000000000000000000000000000000000ffffffff0704ffff001d010bffffffff0100f2052a01000000434104977367164ca24f1f2de2e2cfb9e5c3f22d510d3f33683de200283100af0c8667dba7e4e389fa9953c6cb83d6ea72990e139f529b58cfbbac27607a28207b2a37ac00000000'},\n",
       " 17: {'version': 1,\n",
       "  'prev block': 2452685174625401918744334960110461917432541543494899617618025301237,\n",
       "  'merkle root': 'a3e0b7558e67f5cadd4a3166912cbf6f930044124358ef3a9afd885ac391625d',\n",
       "  'timestamp': datetime.datetime(2009, 1, 10, 0, 3, 11),\n",
       "  'bits': '1d00ffff',\n",
       "  'nonce': 2474926087,\n",
       "  'tx ids raw ': '0101000000010000000000000000000000000000000000000000000000000000000000000000ffffffff0704ffff001d010dffffffff0100f2052a010000004341045ca3b93e90fe9785734e07c8e564fd72a0d68a200bf907ee01dabab784ad5817f59a41f4f7e04edc3e9b80cc370c281b0f406eb58187664bdf93decc5bb63264ac00000000'},\n",
       " 18: {'version': 1,\n",
       "  'prev block': 6734151617419169502782334161510794210106098174525711729263936141321,\n",
       "  'merkle root': 'f925f26deb2dc4696be8782ab7ad9493d04721b28ee69a09d7dfca51b863ca23',\n",
       "  'timestamp': datetime.datetime(2009, 1, 10, 0, 12, 14),\n",
       "  'bits': '1d00ffff',\n",
       "  'nonce': 4064360242,\n",
       "  'tx ids raw ': '0101000000010000000000000000000000000000000000000000000000000000000000000000ffffffff0704ffff001d0112ffffffff0100f2052a01000000434104cf37a46b304e4dad17e081361502d0eff20af2b1360c7b18392a29f9f08ae5a95aa24f859533dabbc8585598bf8c5c71c0e8d89d3655889aee8c49fd948f59feac00000000'},\n",
       " 19: {'version': 1,\n",
       "  'prev block': 14172694677521880345120501544619211817103559406385776094603102261526,\n",
       "  'merkle root': '9b9e461221e5284f3bfe5656efdc8c7cc633b2f1beef54a86316bf2ae3a3e230',\n",
       "  'timestamp': datetime.datetime(2009, 1, 10, 0, 22, 54),\n",
       "  'bits': '1d00ffff',\n",
       "  'nonce': 766824726,\n",
       "  'tx ids raw ': '0101000000010000000000000000000000000000000000000000000000000000000000000000ffffffff0704ffff001d0116ffffffff0100f2052a01000000434104f5efde0c2d30ab28e3dbe804c1a4aaf13066f9b198a4159c76f8f79b3b20caf99f7c979ed6c71481061277a6fc8666977c249da99960c97c8d8714fda9f0e883ac00000000'},\n",
       " 20: {'version': 1,\n",
       "  'prev block': 13913036726272710222248885112189615899873454579635673079356109822063,\n",
       "  'merkle root': 'ee1afca2d1130676503a6db5d6a77075b2bf71382cfdf99231f89717b5257b5b',\n",
       "  'timestamp': datetime.datetime(2009, 1, 10, 0, 39, 55),\n",
       "  'bits': '1d00ffff',\n",
       "  'nonce': 1901123894,\n",
       "  'tx ids raw ': '0101000000010000000000000000000000000000000000000000000000000000000000000000ffffffff0704ffff001d0120ffffffff0100f2052a0100000043410408ab2f56361f83064e4ce51acc291fb57c2cbcdb1d6562f6278c43a1406b548fd6cefc11bcc29eb620d5861cb9ed69dc39f2422f54b06a8af4f78c8276cfdc6bac00000000'},\n",
       " 21: {'version': 1,\n",
       "  'prev block': 10916884920854193823085984854629921188928353007548549329385891875031,\n",
       "  'merkle root': 'e0175970efb4417950921bfcba2a3a1e88c007c21232ff706009cc70b89210b4',\n",
       "  'timestamp': datetime.datetime(2009, 1, 10, 0, 49, 13),\n",
       "  'bits': '1d00ffff',\n",
       "  'nonce': 3592540203,\n",
       "  'tx ids raw ': '0101000000010000000000000000000000000000000000000000000000000000000000000000ffffffff0704ffff001d0125ffffffff0100f2052a010000004341042b08ebb6ada0057e47a125d0a2e99dd2b86c201d41aaf7aa295c625c2c2f1997a8bc6cb9dbda889669989b8d12804c400168e54b093ad05d1170c516abca7d28ac00000000'},\n",
       " 22: {'version': 1,\n",
       "  'prev block': 11690235257632709135146196053301738952393749060282981871736285505871,\n",
       "  'merkle root': '9e2eaf1d7e5178a2d116f331c340f1f7fd6de7540783ac36a7054fe9a4d64943',\n",
       "  'timestamp': datetime.datetime(2009, 1, 10, 1, 4, 27),\n",
       "  'bits': '1d00ffff',\n",
       "  'nonce': 1645155368,\n",
       "  'tx ids raw ': '0101000000010000000000000000000000000000000000000000000000000000000000000000ffffffff0704ffff001d0130ffffffff0100f2052a01000000434104aef905809d1004da2b0187dd5198e0f5b11ab291230cdcd9606bbc99acd15bc91f951de6307f5adae03f2e18d523ec8778e7d8e9b7c24ba282c8eaa9bcded840ac00000000'},\n",
       " 23: {'version': 1,\n",
       "  'prev block': 16082154410385470765433072396601016579731372626229870167547782585915,\n",
       "  'merkle root': 'e1cf3476234d8446653ad52a8939ed792003eefdcd0e897319ab9d2cb4c14c8c',\n",
       "  'timestamp': datetime.datetime(2009, 1, 10, 1, 6, 51),\n",
       "  'bits': '1d00ffff',\n",
       "  'nonce': 1437882917,\n",
       "  'tx ids raw ': '0101000000010000000000000000000000000000000000000000000000000000000000000000ffffffff0704ffff001d0131ffffffff0100f2052a010000004341041a24b5639c12b2b0a612011eb780a682020b6312782fef0bc29a75eee7cf66abd081121a0b7b5c3076e055648379c25ed52eff8d2b11871e5a7e0c8604f4053fac00000000'}}"
      ]
     },
     "execution_count": 17,
     "metadata": {},
     "output_type": "execute_result"
    }
   ],
   "source": [
    "blocks"
   ]
  },
  {
   "cell_type": "markdown",
   "metadata": {},
   "source": [
    "## Functions"
   ]
  },
  {
   "cell_type": "code",
   "execution_count": 18,
   "metadata": {},
   "outputs": [
    {
     "data": {
      "text/plain": [
       "'f9beb4d91d0100000100000000000000000000000000000000000000000000000000000000000000000000003ba3edfd7a7b12b27ac72c3e67768f617fc81bc3888a51323a9fb8aa4b1e5e4a29ab5f49ffff001d1dac2b7c0101000000010000000000000000000000000000000000000000000000000000000000000000ffffffff4d04ffff001d0104455468652054696d65732030332f4a616e2f32303039204368616e63656c6c6f72206f6e206272696e6b206f66207365636f6e64206261696c6f757420666f722062616e6b73ffffffff0100f2052a01000000434104678afdb0fe5548271967f1a67130b7105cd6a828e03909a67962e0ea1f61deb649f6bc3f4cef38c4f35504e51ec112de5c384df7ba0b8d578a4c702b6bf11d5fac00000000f9beb4d9d7000000010000006fe28c0a'"
      ]
     },
     "execution_count": 18,
     "metadata": {},
     "output_type": "execute_result"
    }
   ],
   "source": [
    "blk[0].hex()"
   ]
  },
  {
   "cell_type": "code",
   "execution_count": 19,
   "metadata": {},
   "outputs": [],
   "source": [
    "def parse_blocks(blks: list[bytes], block_height_start: int=0, block_height_end: int=-1, input_remainder: bytes='') -> list[dict, int, str]:\n",
    "    blocks = {}\n",
    "    block_remainder = ''\n",
    "    # block_height = 0\n",
    "    blks[0] = input_remainder + blks[0].hex()\n",
    "    i = 0\n",
    "\n",
    "    for block in blks:\n",
    "        data_part = None\n",
    "        if i == 0:\n",
    "            data_part = block\n",
    "            i += 1\n",
    "        else:\n",
    "            data_part = block.hex()\n",
    "        data = block_remainder + data_part\n",
    "        # split on magic number\n",
    "        raw_blks = data.split('f9beb4d9')\n",
    "        block_remainder = 'f9beb4d9' + raw_blks[-1]\n",
    "        # loop through blocks from split to parse them individually\n",
    "        for raw_blk in raw_blks[1:-1]:\n",
    "            tmp_block = {}\n",
    "            # print(f\"i: {i}, b: {b}\")\n",
    "            block_size_raw = raw_blk[:8]\n",
    "            block_size_swap = bytearray.fromhex(block_size_raw)\n",
    "            block_size_swap.reverse()\n",
    "            block_size = (int(block_size_swap.hex(), 16))*2+8\n",
    "            if len(raw_blk) != block_size:\n",
    "                raise ValueError(f\"error, expected len(raw_blk) == block_size but got {len(raw_blk)} == {block_size}\")\n",
    "\n",
    "            block_header = raw_blk[16:168]\n",
    "            block_header_swap = bytearray.fromhex(block_header)\n",
    "            block_header_swap.reverse()\n",
    "            # print(f\"block header hex: {block_header_swap.hex()}\")\n",
    "            # print(f\"length of block header: {len(block_header)}\")\n",
    "\n",
    "            version_dat = raw_blk[8:16]\n",
    "            version_dat_swap = bytearray.fromhex(version_dat)\n",
    "            version_dat_swap.reverse()\n",
    "            tmp_block['version'] = int(version_dat_swap.hex(), 16)\n",
    "            # print(f\"version: {int(version_dat_swap.hex(), 16)}\")\n",
    "\n",
    "            prev_block = block_header[:64]\n",
    "            prev_block_swap = bytearray.fromhex(prev_block)\n",
    "            prev_block_swap.reverse()\n",
    "            tmp_block['prev block'] = prev_block_swap.hex()\n",
    "            # print(f\"prev block: {int(prev_block_swap.hex(), 16)}\")\n",
    "\n",
    "            merkle_root = block_header[64:128]\n",
    "            merkle_root_swap = bytearray.fromhex(merkle_root)\n",
    "            merkle_root_swap.reverse()\n",
    "            tmp_block['merkle root'] = merkle_root_swap.hex()\n",
    "            # print(f\"merkle root: {merkle_root_swap.hex()}\")\n",
    "\n",
    "            block_time = block_header[128:136]\n",
    "            block_time_swap = bytearray.fromhex(block_time)\n",
    "            block_time_swap.reverse()\n",
    "            block_time_utc = datetime.datetime.fromtimestamp(int(block_time_swap.hex(), 16))\n",
    "            tmp_block['timestamp'] = block_time_utc\n",
    "            # print(f\"block time: {block_time_utc}\")\n",
    "\n",
    "            block_bits = block_header[136:144]\n",
    "            block_bits_swap = bytearray.fromhex(block_bits)\n",
    "            block_bits_swap.reverse()\n",
    "            tmp_block['bits'] = block_bits_swap.hex()\n",
    "            # print(f\"block bits swap: {block_bits_swap.hex()}\")\n",
    "\n",
    "            block_nonce = block_header[144:152]\n",
    "            block_nonce_swap = bytearray.fromhex(block_nonce)\n",
    "            block_nonce_swap.reverse()\n",
    "            tmp_block['nonce'] = int(block_nonce_swap.hex(), 16)\n",
    "            # print(f\"block nonce swap: {int(block_nonce_swap.hex(), 16)}\")\n",
    "\n",
    "            # tx_ids_raw = raw_blk[168:block_size]\n",
    "            tmp_block['tx ids raw '] = raw_blk[168:block_size]\n",
    "            # print(f\"tx ids raw: {tx_ids_raw}\")\n",
    "            blocks[block_height_start] = tmp_block\n",
    "            block_height_start += 1\n",
    "        if block_height_start >= block_height_end and block_height_end >= 0:\n",
    "            break\n",
    "    return blocks, block_height_start-1, block_remainder"
   ]
  },
  {
   "cell_type": "code",
   "execution_count": 20,
   "metadata": {},
   "outputs": [],
   "source": [
    "parsed_blocks, block_height, block_remainder = parse_blocks(blks=blk)"
   ]
  },
  {
   "cell_type": "code",
   "execution_count": 21,
   "metadata": {},
   "outputs": [
    {
     "name": "stdout",
     "output_type": "stream",
     "text": [
      "119,965\n"
     ]
    },
    {
     "data": {
      "text/plain": [
       "{'version': 1,\n",
       " 'prev block': '00000000000013aa7f91d6578c8f8db27611f00e7979e5bd2a763c01bc54d55e',\n",
       " 'merkle root': '6b0af140f1a8df1a217c499c291bbba8bb17074260cbc0c40dfecd65f3c6c859',\n",
       " 'timestamp': datetime.datetime(2011, 4, 24, 15, 16, 33),\n",
       " 'bits': '1b00b5ac',\n",
       " 'nonce': 3628801568,\n",
       " 'tx ids raw ': '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'}"
      ]
     },
     "execution_count": 21,
     "metadata": {},
     "output_type": "execute_result"
    }
   ],
   "source": [
    "block_height_tmp = 0\n",
    "print(f\"{(block_height):,d}\")\n",
    "parsed_blocks[block_height]"
   ]
  },
  {
   "cell_type": "code",
   "execution_count": 22,
   "metadata": {},
   "outputs": [
    {
     "data": {
      "text/plain": [
       "'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'"
      ]
     },
     "execution_count": 22,
     "metadata": {},
     "output_type": "execute_result"
    }
   ],
   "source": [
    "block_remainder"
   ]
  },
  {
   "cell_type": "code",
   "execution_count": 23,
   "metadata": {},
   "outputs": [
    {
     "data": {
      "text/plain": [
       "'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'"
      ]
     },
     "execution_count": 23,
     "metadata": {},
     "output_type": "execute_result"
    }
   ],
   "source": [
    "block_one = \"C:\\\\Users\\\\david\\\\OneDrive\\\\Documents\\\\code\\\\python\\\\Blockchain\\\\Bitcoin\\\\data\\\\bitcoin_data\\\\blk00001.dat\"\n",
    "\n",
    "blk1 = None\n",
    "with open(block_one, 'rb') as f:\n",
    "    blk1 = f.readlines()\n",
    "    # blk = f.read()\n",
    "    f.close()\n",
    "blk1[0].hex()"
   ]
  },
  {
   "cell_type": "code",
   "execution_count": 24,
   "metadata": {},
   "outputs": [],
   "source": [
    "parsed_blocks1, block_height1, block_remainder1 = parse_blocks(blks=blk1, block_height_start=block_height,  input_remainder=block_remainder)"
   ]
  },
  {
   "cell_type": "code",
   "execution_count": 25,
   "metadata": {},
   "outputs": [
    {
     "name": "stdout",
     "output_type": "stream",
     "text": [
      "11,269\n",
      "131,234\n"
     ]
    },
    {
     "data": {
      "text/plain": [
       "{'version': 1,\n",
       " 'prev block': '0000000000000f83ddd7977e0957c2ddbb32a3cfb07c67d29a86d78fca652af6',\n",
       " 'merkle root': '24432e095a2acf438660b5b235e2d4490efc5811e0598fba5bf54b44955f5f92',\n",
       " 'timestamp': datetime.datetime(2011, 6, 16, 7, 44, 44),\n",
       " 'bits': '1a132185',\n",
       " 'nonce': 4060573036,\n",
       " 'tx ids raw ': '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'}"
      ]
     },
     "execution_count": 25,
     "metadata": {},
     "output_type": "execute_result"
    }
   ],
   "source": [
    "print(f\"{(block_height1 - block_height):,d}\")\n",
    "print(f\"{(block_height1):,d}\")\n",
    "parsed_blocks1[block_height1]"
   ]
  },
  {
   "cell_type": "code",
   "execution_count": 26,
   "metadata": {},
   "outputs": [
    {
     "data": {
      "text/plain": [
       "'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'"
      ]
     },
     "execution_count": 26,
     "metadata": {},
     "output_type": "execute_result"
    }
   ],
   "source": [
    "block_remainder1"
   ]
  },
  {
   "cell_type": "code",
   "execution_count": 27,
   "metadata": {},
   "outputs": [
    {
     "data": {
      "text/plain": [
       "[249,\n",
       " 190,\n",
       " 180,\n",
       " 217,\n",
       " 29,\n",
       " 1,\n",
       " 0,\n",
       " 0,\n",
       " 1,\n",
       " 0,\n",
       " 0,\n",
       " 0,\n",
       " 0,\n",
       " 0,\n",
       " 0,\n",
       " 0,\n",
       " 0,\n",
       " 0,\n",
       " 0,\n",
       " 0,\n",
       " 0,\n",
       " 0,\n",
       " 0,\n",
       " 0,\n",
       " 0,\n",
       " 0,\n",
       " 0,\n",
       " 0,\n",
       " 0,\n",
       " 0,\n",
       " 0,\n",
       " 0,\n",
       " 0,\n",
       " 0,\n",
       " 0,\n",
       " 0,\n",
       " 0,\n",
       " 0,\n",
       " 0,\n",
       " 0,\n",
       " 0,\n",
       " 0,\n",
       " 0,\n",
       " 0,\n",
       " 59,\n",
       " 163,\n",
       " 237,\n",
       " 253,\n",
       " 122,\n",
       " 123,\n",
       " 18,\n",
       " 178,\n",
       " 122,\n",
       " 199,\n",
       " 44,\n",
       " 62,\n",
       " 103,\n",
       " 118,\n",
       " 143,\n",
       " 97,\n",
       " 127,\n",
       " 200,\n",
       " 27,\n",
       " 195,\n",
       " 136,\n",
       " 138,\n",
       " 81,\n",
       " 50,\n",
       " 58,\n",
       " 159,\n",
       " 184,\n",
       " 170,\n",
       " 75,\n",
       " 30,\n",
       " 94,\n",
       " 74,\n",
       " 41,\n",
       " 171,\n",
       " 95,\n",
       " 73,\n",
       " 255,\n",
       " 255,\n",
       " 0,\n",
       " 29,\n",
       " 29,\n",
       " 172,\n",
       " 43,\n",
       " 124,\n",
       " 1,\n",
       " 1,\n",
       " 0,\n",
       " 0,\n",
       " 0,\n",
       " 1,\n",
       " 0,\n",
       " 0,\n",
       " 0,\n",
       " 0,\n",
       " 0,\n",
       " 0,\n",
       " 0,\n",
       " 0,\n",
       " 0,\n",
       " 0,\n",
       " 0,\n",
       " 0,\n",
       " 0,\n",
       " 0,\n",
       " 0,\n",
       " 0,\n",
       " 0,\n",
       " 0,\n",
       " 0,\n",
       " 0,\n",
       " 0,\n",
       " 0,\n",
       " 0,\n",
       " 0,\n",
       " 0,\n",
       " 0,\n",
       " 0,\n",
       " 0,\n",
       " 0,\n",
       " 0,\n",
       " 0,\n",
       " 0,\n",
       " 255,\n",
       " 255,\n",
       " 255,\n",
       " 255,\n",
       " 77,\n",
       " 4,\n",
       " 255,\n",
       " 255,\n",
       " 0,\n",
       " 29,\n",
       " 1,\n",
       " 4,\n",
       " 69,\n",
       " 84,\n",
       " 104,\n",
       " 101,\n",
       " 32,\n",
       " 84,\n",
       " 105,\n",
       " 109,\n",
       " 101,\n",
       " 115,\n",
       " 32,\n",
       " 48,\n",
       " 51,\n",
       " 47,\n",
       " 74,\n",
       " 97,\n",
       " 110,\n",
       " 47,\n",
       " 50,\n",
       " 48,\n",
       " 48,\n",
       " 57,\n",
       " 32,\n",
       " 67,\n",
       " 104,\n",
       " 97,\n",
       " 110,\n",
       " 99,\n",
       " 101,\n",
       " 108,\n",
       " 108,\n",
       " 111,\n",
       " 114,\n",
       " 32,\n",
       " 111,\n",
       " 110,\n",
       " 32,\n",
       " 98,\n",
       " 114,\n",
       " 105,\n",
       " 110,\n",
       " 107,\n",
       " 32,\n",
       " 111,\n",
       " 102,\n",
       " 32,\n",
       " 115,\n",
       " 101,\n",
       " 99,\n",
       " 111,\n",
       " 110,\n",
       " 100,\n",
       " 32,\n",
       " 98,\n",
       " 97,\n",
       " 105,\n",
       " 108,\n",
       " 111,\n",
       " 117,\n",
       " 116,\n",
       " 32,\n",
       " 102,\n",
       " 111,\n",
       " 114,\n",
       " 32,\n",
       " 98,\n",
       " 97,\n",
       " 110,\n",
       " 107,\n",
       " 115,\n",
       " 255,\n",
       " 255,\n",
       " 255,\n",
       " 255,\n",
       " 1,\n",
       " 0,\n",
       " 242,\n",
       " 5,\n",
       " 42,\n",
       " 1,\n",
       " 0,\n",
       " 0,\n",
       " 0,\n",
       " 67,\n",
       " 65,\n",
       " 4,\n",
       " 103,\n",
       " 138,\n",
       " 253,\n",
       " 176,\n",
       " 254,\n",
       " 85,\n",
       " 72,\n",
       " 39,\n",
       " 25,\n",
       " 103,\n",
       " 241,\n",
       " 166,\n",
       " 113,\n",
       " 48,\n",
       " 183,\n",
       " 16,\n",
       " 92,\n",
       " 214,\n",
       " 168,\n",
       " 40,\n",
       " 224,\n",
       " 57,\n",
       " 9,\n",
       " 166,\n",
       " 121,\n",
       " 98,\n",
       " 224,\n",
       " 234,\n",
       " 31,\n",
       " 97,\n",
       " 222,\n",
       " 182,\n",
       " 73,\n",
       " 246,\n",
       " 188,\n",
       " 63,\n",
       " 76,\n",
       " 239,\n",
       " 56,\n",
       " 196,\n",
       " 243,\n",
       " 85,\n",
       " 4,\n",
       " 229,\n",
       " 30,\n",
       " 193,\n",
       " 18,\n",
       " 222,\n",
       " 92,\n",
       " 56,\n",
       " 77,\n",
       " 247,\n",
       " 186,\n",
       " 11,\n",
       " 141,\n",
       " 87,\n",
       " 138,\n",
       " 76,\n",
       " 112,\n",
       " 43,\n",
       " 107,\n",
       " 241,\n",
       " 29,\n",
       " 95,\n",
       " 172,\n",
       " 0,\n",
       " 0,\n",
       " 0,\n",
       " 0,\n",
       " 249,\n",
       " 190]"
      ]
     },
     "execution_count": 27,
     "metadata": {},
     "output_type": "execute_result"
    }
   ],
   "source": [
    "_array = \"249 190 180 217 29 1 0 0 1 0 0 0 0 0 0 0 0 0 0 0 0 0 0 0 0 0 0 0 0 0 0 0 0 0 0 0 0 0 0 0 0 0 0 0 59 163 237 253 122 123 18 178 122 199 44 62 103 118 143 97 127 200 27 195 136 138 81 50 58 159 184 170 75 30 94 74 41 171 95 73 255 255 0 29 29 172 43 124 1 1 0 0 0 1 0 0 0 0 0 0 0 0 0 0 0 0 0 0 0 0 0 0 0 0 0 0 0 0 0 0 0 0 0 0 0 0 255 255 255 255 77 4 255 255 0 29 1 4 69 84 104 101 32 84 105 109 101 115 32 48 51 47 74 97 110 47 50 48 48 57 32 67 104 97 110 99 101 108 108 111 114 32 111 110 32 98 114 105 110 107 32 111 102 32 115 101 99 111 110 100 32 98 97 105 108 111 117 116 32 102 111 114 32 98 97 110 107 115 255 255 255 255 1 0 242 5 42 1 0 0 0 67 65 4 103 138 253 176 254 85 72 39 25 103 241 166 113 48 183 16 92 214 168 40 224 57 9 166 121 98 224 234 31 97 222 182 73 246 188 63 76 239 56 196 243 85 4 229 30 193 18 222 92 56 77 247 186 11 141 87 138 76 112 43 107 241 29 95 172 0 0 0 0 249 190\"\n",
    "_array.split(\" \")\n",
    "tmp_array = []\n",
    "\n",
    "for n in _array.split(\" \"):\n",
    "    tmp_array.append(int(n))\n",
    "tmp_array"
   ]
  }
 ],
 "metadata": {
  "kernelspec": {
   "display_name": "Python 3",
   "language": "python",
   "name": "python3"
  },
  "language_info": {
   "codemirror_mode": {
    "name": "ipython",
    "version": 3
   },
   "file_extension": ".py",
   "mimetype": "text/x-python",
   "name": "python",
   "nbconvert_exporter": "python",
   "pygments_lexer": "ipython3",
   "version": "3.11.5"
  }
 },
 "nbformat": 4,
 "nbformat_minor": 2
}
