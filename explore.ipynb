{
 "cells": [
  {
   "cell_type": "markdown",
   "metadata": {},
   "source": [
    "# Explore Bitcoin-core\n",
    "\n",
    "This is a jupyter notebook for parsing the raw block data from bitcoin-core."
   ]
  },
  {
   "cell_type": "markdown",
   "metadata": {},
   "source": [
    "## Imports"
   ]
  },
  {
   "cell_type": "code",
   "execution_count": 2,
   "metadata": {},
   "outputs": [],
   "source": [
    "import datetime"
   ]
  },
  {
   "cell_type": "markdown",
   "metadata": {},
   "source": [
    "## Genesis Block"
   ]
  },
  {
   "cell_type": "code",
   "execution_count": 3,
   "metadata": {},
   "outputs": [
    {
     "data": {
      "text/plain": [
       "'010000006fe28c0ab6f1b372c1a6a246ae63f74f931e8365e15a089c68d6190000000000982051fd1e4ba744bbbe680e1fee14677ba1a3c3540bf7b1cdb606e857233e0e61bc6649ffff001d01e362990101000000010000000000000000000000000000000000000000000000000000000000000000ffffffff0704ffff001d0104ffffffff0100f2052a0100000043410496b538e853519c726a2c91e61ec11600ae1390813a627c66fb8be7947be63c52da7589379515d4e0a604f8141781e62294721166bf621e73a82cbf2342c858eeac00000000'"
      ]
     },
     "execution_count": 3,
     "metadata": {},
     "output_type": "execute_result"
    }
   ],
   "source": [
    "# 01000000 6fe28c0ab6f1b372c1a6a246ae63f74f931e8365e15a089c68d6190000000000 982051fd1e4ba744bbbe680e1fee14677ba1a3c3540bf7b1cdb606e857233e0e 61bc6649 ffff001d 01e36299 01 01000000010000000000000000000000000000000000000000000000000000000000000000ffffffff0704ffff001d0104ffffffff0100f2052a0100000043410496b538e853519c726a2c91e61ec11600ae1390813a627c66fb8be7947be63c52da7589379515d4e0a604f8141781e62294721166bf621e73a82cbf2342c858eeac00000000\n",
    "genesis_block = \"010000006fe28c0ab6f1b372c1a6a246ae63f74f931e8365e15a089c68d6190000000000982051fd1e4ba744bbbe680e1fee14677ba1a3c3540bf7b1cdb606e857233e0e61bc6649ffff001d01e362990101000000010000000000000000000000000000000000000000000000000000000000000000ffffffff0704ffff001d0104ffffffff0100f2052a0100000043410496b538e853519c726a2c91e61ec11600ae1390813a627c66fb8be7947be63c52da7589379515d4e0a604f8141781e62294721166bf621e73a82cbf2342c858eeac00000000\"\n",
    "genesis_block"
   ]
  },
  {
   "cell_type": "code",
   "execution_count": 4,
   "metadata": {},
   "outputs": [],
   "source": [
    "# swap_data = bytearray.fromhex(genesis_block)\n",
    "# swap_data.reverse()\n",
    "# swap_data.hex()"
   ]
  },
  {
   "cell_type": "markdown",
   "metadata": {},
   "source": [
    "## Block Data\n",
    "\n",
    "inspect blk00000.dat"
   ]
  },
  {
   "cell_type": "code",
   "execution_count": 5,
   "metadata": {},
   "outputs": [
    {
     "name": "stdout",
     "output_type": "stream",
     "text": [
      "C:\\Users\\david\\OneDrive\\Documents\\code\\python\\Blockchain\\Bitcoin\\data\\bitcoin_data\\blk00000.dat\n"
     ]
    }
   ],
   "source": [
    "block_zero  = \"C:\\\\Users\\\\david\\\\OneDrive\\\\Documents\\\\code\\\\python\\\\Blockchain\\\\Bitcoin\\\\data\\\\bitcoin_data\\\\blk00000.dat\"\n",
    "print(block_zero)"
   ]
  },
  {
   "cell_type": "code",
   "execution_count": 22,
   "metadata": {},
   "outputs": [
    {
     "name": "stdout",
     "output_type": "stream",
     "text": [
      "160 ms ± 3.04 ms per loop (mean ± std. dev. of 7 runs, 10 loops each)\n"
     ]
    }
   ],
   "source": [
    "blk = None\n",
    "with open(block_zero, 'rb') as f:\n",
    "    blk = f.readlines()\n",
    "    # blk = f.read()\n",
    "    f.close()\n",
    "# blk[0].hex()"
   ]
  },
  {
   "cell_type": "markdown",
   "metadata": {},
   "source": [
    "Look at size of blk in memory"
   ]
  },
  {
   "cell_type": "code",
   "execution_count": 19,
   "metadata": {},
   "outputs": [
    {
     "name": "stdout",
     "output_type": "stream",
     "text": [
      "3292664\n",
      "size in bytes: 3,292,664 bytes\n",
      "size in KB:    3,292.66 KB\n",
      "size in MB:    3.29 MB\n",
      "block length:  134,215,086\n"
     ]
    }
   ],
   "source": [
    "import sys\n",
    "blk_size = sys.getsizeof(blk)\n",
    "print(blk_size)\n",
    "print(f\"size in bytes: {blk_size:,d} bytes\")\n",
    "print(f\"size in KB:    {blk_size/1_000:,.2f} KB\")\n",
    "print(f\"size in MB:    {blk_size/1_000_000:,.2f} MB\")\n",
    "\n",
    "block_length = 0\n",
    "for b in blk:\n",
    "    block_length += len(b)\n",
    "print(f\"block length:  {block_length:,d}\")"
   ]
  },
  {
   "cell_type": "code",
   "execution_count": 8,
   "metadata": {},
   "outputs": [
    {
     "data": {
      "text/plain": [
       "'309'"
      ]
     },
     "execution_count": 8,
     "metadata": {},
     "output_type": "execute_result"
    }
   ],
   "source": [
    "f\"{int(len(blk[0].hex()))/2:,.0f}\""
   ]
  },
  {
   "cell_type": "markdown",
   "metadata": {},
   "source": [
    "### network"
   ]
  },
  {
   "cell_type": "code",
   "execution_count": 9,
   "metadata": {},
   "outputs": [
    {
     "name": "stdout",
     "output_type": "stream",
     "text": [
      "mainnet\n",
      "f9beb4d9\n",
      "d9b4bef9\n"
     ]
    }
   ],
   "source": [
    "network = {\n",
    "    'f9beb4d9': 'mainnet',\n",
    "    '0b110907': 'Testnet3',\n",
    "    'fabfb5da': 'Regtest'\n",
    "}\n",
    "\n",
    "magic_number = blk[0][:4].hex()\n",
    "print(network[magic_number])\n",
    "print(magic_number)\n",
    "\n",
    "magic_number_byte = bytearray.fromhex(magic_number)\n",
    "magic_number_byte.reverse()\n",
    "print(magic_number_byte.hex())"
   ]
  },
  {
   "cell_type": "markdown",
   "metadata": {},
   "source": [
    "### magic number and block size"
   ]
  },
  {
   "cell_type": "code",
   "execution_count": 10,
   "metadata": {},
   "outputs": [
    {
     "name": "stdout",
     "output_type": "stream",
     "text": [
      "f9beb4d91d0100000100000000000000000000000000000000000000000000000000000000000000000000003ba3edfd7a7b12b27ac72c3e67768f617fc81bc3888a51323a9fb8aa4b1e5e4a29ab5f49ffff001d1dac2b7c0101000000010000000000000000000000000000000000000000000000000000000000000000ffffffff4d04ffff001d0104455468652054696d65732030332f4a616e2f32303039204368616e63656c6c6f72206f6e206272696e6b206f66207365636f6e64206261696c6f757420666f722062616e6b73ffffffff0100f2052a01000000434104678afdb0fe5548271967f1a67130b7105cd6a828e03909a67962e0ea1f61deb649f6bc3f4cef38c4f35504e51ec112de5c384df7ba0b8d578a4c702b6bf11d5fac00000000f9beb4d9d7000000010000006fe28c0a\n",
      "\n",
      "network: mainnet\n",
      "block size raw:    293\n",
      "block size:        586\n",
      "genesis block dat: 570\n",
      "\n"
     ]
    }
   ],
   "source": [
    "block_dat = blk[0].hex()\n",
    "magic_number_dat = block_dat[:8]\n",
    "size_dat = block_dat[8:16]\n",
    "print(block_dat)\n",
    "print()\n",
    "print(f\"network: {network[magic_number_dat]}\")\n",
    "size_dat_swap = bytearray.fromhex(size_dat)\n",
    "size_dat_swap.reverse()\n",
    "block_size_raw = int(size_dat_swap.hex(), 16)+8\n",
    "block_size = block_size_raw*2\n",
    "print(f\"block size raw:    {block_size_raw}\")\n",
    "print(f\"block size:        {block_size}\")\n",
    "genesis_block_dat = block_dat[16:block_size]\n",
    "print(f\"genesis block dat: {len(genesis_block_dat)}\")\n",
    "print()"
   ]
  },
  {
   "cell_type": "markdown",
   "metadata": {},
   "source": [
    "### block header"
   ]
  },
  {
   "cell_type": "code",
   "execution_count": 11,
   "metadata": {},
   "outputs": [
    {
     "name": "stdout",
     "output_type": "stream",
     "text": [
      "00000000000000000000000000000000000000000000000000000000000000003ba3edfd7a7b12b27ac72c3e67768f617fc81bc3888a51323a9fb8aa4b1e5e4a29ab5f49ffff001d1dac2b7c\n",
      "7c2bac1d1d00ffff495fab294a5e1e4baab89f3a32518a88c31bc87f618f76673e2cc77ab2127b7afdeda33b0000000000000000000000000000000000000000000000000000000000000000\n",
      "length of block header: 152\n",
      "\n",
      "01000000\n",
      "version: 1\n",
      "\n",
      "0000000000000000000000000000000000000000000000000000000000000000\n",
      "prev block: 0\n",
      "\n",
      "3ba3edfd7a7b12b27ac72c3e67768f617fc81bc3888a51323a9fb8aa4b1e5e4a\n",
      "merkle root: 4a5e1e4baab89f3a32518a88c31bc87f618f76673e2cc77ab2127b7afdeda33b\n",
      "\n",
      "29ab5f49\n",
      "block time: 2009-01-03 13:15:05\n",
      "\n",
      "ffff001d\n",
      "block bits swap: 1d00ffff\n",
      "\n",
      "1dac2b7c\n",
      "block nonce swap: 2083236893\n",
      "\n"
     ]
    }
   ],
   "source": [
    "block_header = block_dat[24:160+16]\n",
    "print(block_header)\n",
    "block_header_swap = bytearray.fromhex(block_header)\n",
    "block_header_swap.reverse()\n",
    "print(block_header_swap.hex())\n",
    "print(f\"length of block header: {len(block_header)}\")\n",
    "print()\n",
    "\n",
    "version_dat = block_dat[16:24]\n",
    "print(version_dat)\n",
    "version_dat_swap = bytearray.fromhex(version_dat)\n",
    "version_dat_swap.reverse()\n",
    "print(f\"version: {int(version_dat_swap.hex(), 16)}\")\n",
    "print()\n",
    "\n",
    "prev_block = block_header[0:64]\n",
    "print(prev_block)\n",
    "prev_block_swap = bytearray.fromhex(prev_block)\n",
    "prev_block_swap.reverse()\n",
    "print(f\"prev block: {int(prev_block_swap.hex(), 16)}\")\n",
    "print()\n",
    "\n",
    "merkle_root = block_header[64:128]\n",
    "print(merkle_root)\n",
    "merkle_root_swap = bytearray.fromhex(merkle_root)\n",
    "merkle_root_swap.reverse()\n",
    "print(f\"merkle root: {merkle_root_swap.hex()}\")\n",
    "print()\n",
    "\n",
    "block_time = block_header[128:128+8]\n",
    "print(block_time)\n",
    "block_time_swap = bytearray.fromhex(block_time)\n",
    "block_time_swap.reverse()\n",
    "block_time_utc = datetime.datetime.fromtimestamp(int(block_time_swap.hex(), 16))\n",
    "print(f\"block time: {block_time_utc}\")\n",
    "print()\n",
    "\n",
    "block_bits = block_header[136:136+8]\n",
    "print(block_bits)\n",
    "block_bits_swap = bytearray.fromhex(block_bits)\n",
    "block_bits_swap.reverse()\n",
    "print(f\"block bits swap: {block_bits_swap.hex()}\")\n",
    "print()\n",
    "\n",
    "block_nonce = block_header[144:144+8]\n",
    "print(block_nonce)\n",
    "block_nonce_swap = bytearray.fromhex(block_nonce)\n",
    "block_nonce_swap.reverse()\n",
    "print(f\"block nonce swap: {int(block_nonce_swap.hex(), 16)}\")\n",
    "print()"
   ]
  },
  {
   "cell_type": "markdown",
   "metadata": {},
   "source": [
    "### transactions"
   ]
  },
  {
   "cell_type": "code",
   "execution_count": 12,
   "metadata": {},
   "outputs": [
    {
     "data": {
      "text/plain": [
       "'0101000000010000000000000000000000000000000000000000000000000000000000000000ffffffff4d04ffff001d0104455468652054696d65732030332f4a616e2f32303039204368616e63656c6c6f72206f6e206272696e6b206f66207365636f6e64206261696c6f757420666f722062616e6b73ffffffff0100f2052a01000000434104678afdb0fe5548271967f1a67130b7105cd6a828e03909a67962e0ea1f61deb649f6bc3f4cef38c4f35504e51ec112de5c384df7ba0b8d578a4c702b6bf11d5fac00000000'"
      ]
     },
     "execution_count": 12,
     "metadata": {},
     "output_type": "execute_result"
    }
   ],
   "source": [
    "# array of raw transaction block\n",
    "block_dat[176:block_size]"
   ]
  },
  {
   "cell_type": "code",
   "execution_count": 13,
   "metadata": {},
   "outputs": [
    {
     "name": "stdout",
     "output_type": "stream",
     "text": [
      "01\n",
      "block bits swap: 1\n",
      "01000000010000000000000000000000000000000000000000000000000000000000000000ffffffff4d04ffff001d0104455468652054696d65732030332f4a616e2f32303039204368616e63656c6c6f72206f6e206272696e6b206f66207365636f6e64206261696c6f757420666f722062616e6b73ffffffff0100f2052a01000000434104678afdb0fe5548271967f1a67130b7105cd6a828e03909a67962e0ea1f61deb649f6bc3f4cef38c4f35504e51ec112de5c384df7ba0b8d578a4c702b6bf11d5fac00000000\n"
     ]
    }
   ],
   "source": [
    "tx_num = block_dat[176:178]\n",
    "tx_ids = block_dat[178:block_size]\n",
    "\n",
    "print(tx_num)\n",
    "tx_num_swap = bytearray.fromhex(tx_num)\n",
    "tx_num_swap.reverse()\n",
    "print(f\"block bits swap: {int(tx_num_swap.hex(), 16)}\")\n",
    "print(tx_ids)"
   ]
  },
  {
   "cell_type": "code",
   "execution_count": 14,
   "metadata": {},
   "outputs": [
    {
     "data": {
      "text/plain": [
       "{'version': '01000000',\n",
       " 'inputcount': '01',\n",
       " 'inputs': [{'txid': '0000000000000000000000000000000000000000000000000000000000000000',\n",
       "   'vout': 'ffffffff',\n",
       "   'scriptsigsize': '4d',\n",
       "   'scriptsig': '04ffff001d0104455468652054696d65732030332f4a616e2f32303039204368616e63656c6c6f72206f6e206272696e6b206f66207365636f6e64206261696c6f757420666f722062616e6b73',\n",
       "   'sequence': 'ffffffff'}],\n",
       " 'outputcount': '01',\n",
       " 'outputs': [{'amount': '00f2052a01000000',\n",
       "   'scriptpubkeysize': '43',\n",
       "   'scriptpubkey': '4104678afdb0fe5548271967f1a67130b7105cd6a828e03909a67962e0ea1f61deb649f6bc3f4cef38c4f35504e51ec112de5c384df7ba0b8d578a4c702b6bf11d5fac'}],\n",
       " 'locktime': '00000000'}"
      ]
     },
     "execution_count": 14,
     "metadata": {},
     "output_type": "execute_result"
    }
   ],
   "source": [
    "{\n",
    "  \"version\": \"01000000\",\n",
    "  \"inputcount\": \"01\",\n",
    "  \"inputs\": [\n",
    "    {\n",
    "      \"txid\": \"0000000000000000000000000000000000000000000000000000000000000000\",\n",
    "      \"vout\": \"ffffffff\",\n",
    "      \"scriptsigsize\": \"4d\",\n",
    "      \"scriptsig\": \"04ffff001d0104455468652054696d65732030332f4a616e2f32303039204368616e63656c6c6f72206f6e206272696e6b206f66207365636f6e64206261696c6f757420666f722062616e6b73\",\n",
    "      \"sequence\": \"ffffffff\"\n",
    "    }\n",
    "  ],\n",
    "  \"outputcount\": \"01\",\n",
    "  \"outputs\": [\n",
    "    {\n",
    "      \"amount\": \"00f2052a01000000\",\n",
    "      \"scriptpubkeysize\": \"43\",\n",
    "      \"scriptpubkey\": \"4104678afdb0fe5548271967f1a67130b7105cd6a828e03909a67962e0ea1f61deb649f6bc3f4cef38c4f35504e51ec112de5c384df7ba0b8d578a4c702b6bf11d5fac\"\n",
    "    }\n",
    "  ],\n",
    "  \"locktime\": \"00000000\"\n",
    "}"
   ]
  },
  {
   "cell_type": "code",
   "execution_count": null,
   "metadata": {},
   "outputs": [],
   "source": []
  },
  {
   "cell_type": "code",
   "execution_count": 15,
   "metadata": {},
   "outputs": [
    {
     "name": "stdout",
     "output_type": "stream",
     "text": [
      "430\n"
     ]
    },
    {
     "data": {
      "text/plain": [
       "'010000006fe28c0ab6f1b372c1a6a246ae63f74f931e8365e15a089c68d6190000000000982051fd1e4ba744bbbe680e1fee14677ba1a3c3540bf7b1cdb606e857233e0e61bc6649ffff001d01e362990101000000010000000000000000000000000000000000000000000000000000000000000000ffffffff0704ffff001d0104ffffffff0100f2052a0100000043410496b538e853519c726a2c91e61ec11600ae1390813a627c66fb8be7947be63c52da7589379515d4e0a604f8141781e62294721166bf621e73a82cbf2342c858eeac00000000'"
      ]
     },
     "execution_count": 15,
     "metadata": {},
     "output_type": "execute_result"
    }
   ],
   "source": [
    "print(len(genesis_block))\n",
    "genesis_block"
   ]
  }
 ],
 "metadata": {
  "kernelspec": {
   "display_name": "Python 3",
   "language": "python",
   "name": "python3"
  },
  "language_info": {
   "codemirror_mode": {
    "name": "ipython",
    "version": 3
   },
   "file_extension": ".py",
   "mimetype": "text/x-python",
   "name": "python",
   "nbconvert_exporter": "python",
   "pygments_lexer": "ipython3",
   "version": "3.11.5"
  }
 },
 "nbformat": 4,
 "nbformat_minor": 2
}
